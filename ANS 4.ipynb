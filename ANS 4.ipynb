{
 "cells": [
  {
   "cell_type": "markdown",
   "id": "d84acdac-9744-4dd3-9258-3ea272ddd149",
   "metadata": {},
   "source": [
    "$$\n",
    "f(x, y) = x^2 y + y^3 \\sin(x)\n",
    "$$\n",
    "\n",
    "Partial derivative with respect to \\( x \\):\n",
    "$$\n",
    "\\frac{\\partial f}{\\partial x} = \\frac{\\partial}{\\partial x} (x^2 y + y^3 \\sin(x)) = 2xy + y^3 \\cos(x)\n",
    "$$\n",
    "\n",
    "Partial derivative with respect to \\( y \\):\n",
    "$$\n",
    "\\frac{\\partial f}{\\partial y} = \\frac{\\partial}{\\partial y} (x^2 y + y^3 \\sin(x)) = x^2 + 3y^2 \\sin(x)\n",
    "$$\n",
    "\n",
    "Gradient of \\( f(x, y) \\):\n",
    "$$\n",
    "\\nabla f = \\left( \\frac{\\partial f}{\\partial x}, \\frac{\\partial f}{\\partial y} \\right) = \\left( 2xy + y^3 \\cos(x), x^2 + 3y^2 \\sin(x) \\right)\n",
    "$$\n"
   ]
  },
  {
   "cell_type": "code",
   "execution_count": null,
   "id": "5be73cf3-0ebf-4d01-9cf0-602af47f57ff",
   "metadata": {},
   "outputs": [],
   "source": []
  }
 ],
 "metadata": {
  "kernelspec": {
   "display_name": "Python 3 (ipykernel)",
   "language": "python",
   "name": "python3"
  },
  "language_info": {
   "codemirror_mode": {
    "name": "ipython",
    "version": 3
   },
   "file_extension": ".py",
   "mimetype": "text/x-python",
   "name": "python",
   "nbconvert_exporter": "python",
   "pygments_lexer": "ipython3",
   "version": "3.12.4"
  }
 },
 "nbformat": 4,
 "nbformat_minor": 5
}
