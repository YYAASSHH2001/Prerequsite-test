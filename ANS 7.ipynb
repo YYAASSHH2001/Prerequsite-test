{
 "cells": [
  {
   "cell_type": "code",
   "execution_count": 3,
   "id": "d5c213ed-87a0-4e6f-8644-7e7818561cbe",
   "metadata": {},
   "outputs": [
    {
     "name": "stdout",
     "output_type": "stream",
     "text": [
      "{2022: {'Branch 1': {1: {'Name': 'Alice', 'Marks': {'Maths': 95, 'English': 85}}, 2: {'Name': 'Bob', 'Marks': {'Maths': 75, 'English': 80}}}, 'Branch 2': {1: {'Name': 'Charlie', 'Marks': {'Maths': 88, 'English': 90}}}}, 2023: {'Branch 1': {1: {'Name': 'David', 'Marks': {'Maths': 92, 'English': 78}}, 2: {'Name': 'Eva', 'Marks': {'Maths': 84, 'English': 88}}}, 'Branch 2': {1: {'Name': 'Frank', 'Marks': {'Maths': 79, 'English': 82}}}}, 2024: {'Branch 1': {1: {'Name': 'Grace', 'Marks': {'Maths': 87, 'English': 91}}}, 'Branch 2': {1: {'Name': 'Hannah', 'Marks': {'Maths': 90, 'English': 85}}, 2: {'Name': 'Ian', 'Marks': {'Maths': 78, 'English': 80}}}}, 2025: {'Branch 1': {1: {'Name': 'Jack', 'Marks': {'Maths': 85, 'English': 88}}}, 'Branch 2': {1: {'Name': 'Kathy', 'Marks': {'Maths': 95, 'English': 92}}}}}\n"
     ]
    }
   ],
   "source": [
    "\n",
    "studentrecords = {\n",
    "    2022: {\n",
    "        \"Branch 1\": {\n",
    "            1: {\"Name\": \"Alice\", \"Marks\": {\"Maths\": 95, \"English\": 85}},\n",
    "            2: {\"Name\": \"Bob\", \"Marks\": {\"Maths\": 75, \"English\": 80}}\n",
    "        },\n",
    "        \"Branch 2\": {\n",
    "            1: {\"Name\": \"Charlie\", \"Marks\": {\"Maths\": 88, \"English\": 90}}\n",
    "        }\n",
    "    },\n",
    "    2023: {\n",
    "        \"Branch 1\": {\n",
    "            1: {\"Name\": \"David\", \"Marks\": {\"Maths\": 92, \"English\": 78}},\n",
    "            2: {\"Name\": \"Eva\", \"Marks\": {\"Maths\": 84, \"English\": 88}}\n",
    "        },\n",
    "        \"Branch 2\": {\n",
    "            1: {\"Name\": \"Frank\", \"Marks\": {\"Maths\": 79, \"English\": 82}}\n",
    "        }\n",
    "    },\n",
    "    2024: {\n",
    "        \"Branch 1\": {\n",
    "            1: {\"Name\": \"Grace\", \"Marks\": {\"Maths\": 87, \"English\": 91}}\n",
    "        },\n",
    "        \"Branch 2\": {\n",
    "            1: {\"Name\": \"Hannah\", \"Marks\": {\"Maths\": 90, \"English\": 85}},\n",
    "            2: {\"Name\": \"Ian\", \"Marks\": {\"Maths\": 78, \"English\": 80}}\n",
    "        }\n",
    "    },\n",
    "    2025: {\n",
    "        \"Branch 1\": {\n",
    "            1: {\"Name\": \"Jack\", \"Marks\": {\"Maths\": 85, \"English\": 88}}\n",
    "        },\n",
    "        \"Branch 2\": {\n",
    "            1: {\"Name\": \"Kathy\", \"Marks\": {\"Maths\": 95, \"English\": 92}}\n",
    "        }\n",
    "    }\n",
    "}\n",
    "\n",
    "\n",
    "print(studentrecords)"
   ]
  },
  {
   "cell_type": "code",
   "execution_count": null,
   "id": "312b11f7-d0c7-4618-8396-16f3df3e2d25",
   "metadata": {},
   "outputs": [],
   "source": []
  }
 ],
 "metadata": {
  "kernelspec": {
   "display_name": "Python 3 (ipykernel)",
   "language": "python",
   "name": "python3"
  },
  "language_info": {
   "codemirror_mode": {
    "name": "ipython",
    "version": 3
   },
   "file_extension": ".py",
   "mimetype": "text/x-python",
   "name": "python",
   "nbconvert_exporter": "python",
   "pygments_lexer": "ipython3",
   "version": "3.12.4"
  }
 },
 "nbformat": 4,
 "nbformat_minor": 5
}
