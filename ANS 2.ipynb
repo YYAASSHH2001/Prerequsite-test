{
 "cells": [
  {
   "cell_type": "code",
   "execution_count": 1,
   "id": "bfba7f37-0c78-4b16-9437-fdb4d176be3f",
   "metadata": {},
   "outputs": [
    {
     "name": "stdin",
     "output_type": "stream",
     "text": [
      "Enter n for rows in A:  2\n",
      "Enter k for cols in A:  2\n"
     ]
    },
    {
     "name": "stdout",
     "output_type": "stream",
     "text": [
      "Enter the elements of matrix A row-wise:\n"
     ]
    },
    {
     "name": "stdin",
     "output_type": "stream",
     "text": [
      " 1\n",
      " 2\n",
      " 3\n",
      " 4\n"
     ]
    },
    {
     "name": "stdout",
     "output_type": "stream",
     "text": [
      "Matrix A:\n",
      "[1, 2]\n",
      "[3, 4]\n"
     ]
    },
    {
     "name": "stdin",
     "output_type": "stream",
     "text": [
      "Enter m for cols in B:  2\n"
     ]
    },
    {
     "name": "stdout",
     "output_type": "stream",
     "text": [
      "Enter the elements of matrix B row-wise:\n"
     ]
    },
    {
     "name": "stdin",
     "output_type": "stream",
     "text": [
      " 4\n",
      " 5\n",
      " 6\n",
      " 7\n"
     ]
    },
    {
     "name": "stdout",
     "output_type": "stream",
     "text": [
      "Matrix B:\n",
      "[4, 5]\n",
      "[6, 7]\n",
      "List of lists multiplication time: 0.001180 seconds\n",
      "NumPy multiplication time: 0.000261 seconds\n"
     ]
    }
   ],
   "source": [
    "import numpy as np\n",
    "import time\n",
    "\n",
    "\n",
    "A = []\n",
    "n = int(input(\"Enter n for rows in A: \"))\n",
    "k = int(input(\"Enter k for cols in A: \"))\n",
    "print(\"Enter the elements of matrix A row-wise:\")\n",
    "for i in range(n):\n",
    "    row = []\n",
    "    for j in range(k):\n",
    "        row.append(int(input()))\n",
    "    A.append(row)\n",
    "\n",
    "print(\"Matrix A:\")\n",
    "for row in A:\n",
    "    print(row)\n",
    "\n",
    "B = []\n",
    "m = int(input(\"Enter m for cols in B: \"))\n",
    "print(\"Enter the elements of matrix B row-wise:\")\n",
    "for i in range(k):\n",
    "    row = []\n",
    "    for j in range(m):\n",
    "        row.append(int(input()))\n",
    "    B.append(row)\n",
    "\n",
    "print(\"Matrix B:\")\n",
    "for row in B:\n",
    "    print(row)\n",
    "\n",
    "\n",
    "def matmul_list(A, B):\n",
    "    n = len(A)\n",
    "    k = len(A[0])\n",
    "    m = len(B[0])\n",
    "    result = [[0] * m for _ in range(n)]\n",
    "    \n",
    "    for i in range(n):\n",
    "        for j in range(m):\n",
    "            for l in range(k):\n",
    "                result[i][j] += A[i][l] * B[l][j]\n",
    "    return result\n",
    "\n",
    "\n",
    "def matmul_numpy(A, B):\n",
    "    return np.dot(A, B)\n",
    "\n",
    "\n",
    "start_time = time.time()\n",
    "result_list = matmul_list(A, B)\n",
    "list_time = time.time() - start_time\n",
    "\n",
    "\n",
    "A_np = np.array(A)\n",
    "B_np = np.array(B)\n",
    "start_time = time.time()\n",
    "result_numpy = matmul_numpy(A_np, B_np)\n",
    "numpy_time = time.time() - start_time\n",
    "\n",
    "\n",
    "print(f\"List of lists multiplication time: {list_time:.6f} seconds\")\n",
    "print(f\"NumPy multiplication time: {numpy_time:.6f} seconds\")\n",
    "\n",
    "\n"
   ]
  },
  {
   "cell_type": "code",
   "execution_count": null,
   "id": "0ea7c160-8080-4bda-8311-02bba47a8bbf",
   "metadata": {},
   "outputs": [],
   "source": []
  }
 ],
 "metadata": {
  "kernelspec": {
   "display_name": "Python 3 (ipykernel)",
   "language": "python",
   "name": "python3"
  },
  "language_info": {
   "codemirror_mode": {
    "name": "ipython",
    "version": 3
   },
   "file_extension": ".py",
   "mimetype": "text/x-python",
   "name": "python",
   "nbconvert_exporter": "python",
   "pygments_lexer": "ipython3",
   "version": "3.12.4"
  }
 },
 "nbformat": 4,
 "nbformat_minor": 5
}
