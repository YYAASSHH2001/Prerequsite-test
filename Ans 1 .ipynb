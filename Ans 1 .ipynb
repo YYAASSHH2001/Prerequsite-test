{
 "cells": [
  {
   "cell_type": "code",
   "execution_count": null,
   "id": "b303ee9b-ab15-4672-a4d8-40be8dbe8f4a",
   "metadata": {},
   "outputs": [],
   "source": [
    "#  Q1 How many multiplications and additions do you need to perform a matrix multiplication between a (n, k) and (k, m) matrix? Explain\n",
    "\n",
    "# the no multiplications = n * K *m and the no of addition is = n* (k-1) * m"
   ]
  }
 ],
 "metadata": {
  "kernelspec": {
   "display_name": "Python 3 (ipykernel)",
   "language": "python",
   "name": "python3"
  },
  "language_info": {
   "codemirror_mode": {
    "name": "ipython",
    "version": 3
   },
   "file_extension": ".py",
   "mimetype": "text/x-python",
   "name": "python",
   "nbconvert_exporter": "python",
   "pygments_lexer": "ipython3",
   "version": "3.12.4"
  }
 },
 "nbformat": 4,
 "nbformat_minor": 5
}
