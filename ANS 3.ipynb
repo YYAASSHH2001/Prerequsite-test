{
 "cells": [
  {
   "cell_type": "code",
   "execution_count": 6,
   "id": "21702923-52ba-4a88-a053-a46c083ec263",
   "metadata": {},
   "outputs": [
    {
     "name": "stdout",
     "output_type": "stream",
     "text": [
      "4\n"
     ]
    }
   ],
   "source": [
    "#Given Method\n",
    "\n",
    "def FirstMethod(arr):\n",
    "    n = len(arr)\n",
    "    for i in range((n + 1) // 2):\n",
    "        max_idx = 0\n",
    "        for j in range(1, n - i):\n",
    "            if arr[j] > arr[max_idx]:\n",
    "                max_idx = j\n",
    "        arr[max_idx]= arr[n - i - 1]\n",
    "        arr[n - i - 1] = arr[max_idx]\n",
    "    return arr[(n - 1) // 2]\n",
    "\n",
    "\n",
    "arr = [3, 1, 10, 5, 4]\n",
    "print(FirstMethod(arr))  \n",
    "\n",
    "# complexity of this method is n^2\n"
   ]
  },
  {
   "cell_type": "code",
   "execution_count": 7,
   "id": "c612c6fb-b479-4af7-9331-7d690facc9fb",
   "metadata": {},
   "outputs": [
    {
     "name": "stdout",
     "output_type": "stream",
     "text": [
      "3\n"
     ]
    }
   ],
   "source": [
    "# Better Method\n",
    "\n",
    "def BetterMethod(arr):\n",
    "    arr.sort()\n",
    "    n = len(arr)\n",
    "    return arr[n // 2]\n",
    "\n",
    "\n",
    "arr = [3, 1, 2, 5, 4]\n",
    "print(BetterMethod(arr))  \n",
    "\n",
    "# complexity of this method is (n log n)\n"
   ]
  },
  {
   "cell_type": "code",
   "execution_count": 8,
   "id": "2e987086-e9bd-4040-9770-b56079ee47f9",
   "metadata": {},
   "outputs": [
    {
     "name": "stdout",
     "output_type": "stream",
     "text": [
      "first method median: 3, time: 0.000000 seconds\n",
      "Sorting method median: 3, time: 0.000000 seconds\n",
      "NumPy median: 3.0, time: 0.008753 seconds\n"
     ]
    }
   ],
   "source": [
    "import numpy as np\n",
    "import time\n",
    "\n",
    "# Timing of the first method\n",
    "start_time = time.time()\n",
    "median_max_method = FirstMethod(arr)\n",
    "time_max_method = time.time() - start_time\n",
    "\n",
    "# Timing of sorting method\n",
    "start_time = time.time()\n",
    "median_sorting =BetterMethod(arr)\n",
    "time_sorting = time.time() - start_time\n",
    "\n",
    "# Timing numpy.median\n",
    "start_time = time.time()\n",
    "median_numpy = np.median(arr)\n",
    "time_numpy = time.time() - start_time\n",
    "\n",
    "\n",
    "print(f\"first method median: {median_max_method}, time: {time_max_method:.6f} seconds\")\n",
    "print(f\"Sorting method median: {median_sorting}, time: {time_sorting:.6f} seconds\")\n",
    "print(f\"NumPy median: {median_numpy}, time: {time_numpy:.6f} seconds\")\n",
    "\n"
   ]
  },
  {
   "cell_type": "code",
   "execution_count": null,
   "id": "6bb8624c-45a9-41c2-aff8-319a314c619b",
   "metadata": {},
   "outputs": [],
   "source": []
  }
 ],
 "metadata": {
  "kernelspec": {
   "display_name": "Python 3 (ipykernel)",
   "language": "python",
   "name": "python3"
  },
  "language_info": {
   "codemirror_mode": {
    "name": "ipython",
    "version": 3
   },
   "file_extension": ".py",
   "mimetype": "text/x-python",
   "name": "python",
   "nbconvert_exporter": "python",
   "pygments_lexer": "ipython3",
   "version": "3.12.4"
  }
 },
 "nbformat": 4,
 "nbformat_minor": 5
}
