{
 "cells": [
  {
   "cell_type": "code",
   "execution_count": 1,
   "id": "a79f4061-cf5f-4ce3-997b-0c95f41e0430",
   "metadata": {},
   "outputs": [],
   "source": [
    "class Student:\n",
    "    def __init__(self, roll_number, name, marks):\n",
    "        self.roll_number = roll_number\n",
    "        self.name = name\n",
    "        self.marks = marks \n",
    "    \n",
    "    def __repr__(self):\n",
    "        return f\"Student(Roll Number: {self.roll_number}, Name: {self.name}, Marks: {self.marks})\"\n",
    "\n",
    "\n",
    "class Branch:\n",
    "    def __init__(self, branch_name):\n",
    "        self.branch_name = branch_name\n",
    "        self.students = [] \n",
    "        \n",
    "    def add_student(self, student):\n",
    "        self.students.append(student)\n",
    "    \n",
    "    def __repr__(self):\n",
    "        return f\"Branch(Name: {self.branch_name}, Students: {self.students})\"\n",
    "\n",
    "\n",
    "class Year:\n",
    "    def __init__(self, year):\n",
    "        self.year = year\n",
    "        self.branches = [] \n",
    "    \n",
    "    def add_branch(self, branch):\n",
    "        self.branches.append(branch)\n",
    "    \n",
    "    def __repr__(self):\n",
    "        return f\"Year(Year: {self.year}, Branches: {self.branches})\"\n",
    "\n",
    "\n",
    "class Database:\n",
    "    def __init__(self):\n",
    "        self.years = []  \n",
    "    \n",
    "    def add_year(self, year):\n",
    "        self.years.append(year)\n",
    "    \n",
    "    def __repr__(self):\n",
    "        return f\"Database(Years: {self.years})\"\n"
   ]
  },
  {
   "cell_type": "code",
   "execution_count": null,
   "id": "44d67b88-00ee-4e85-9fc4-229d6b96ed36",
   "metadata": {},
   "outputs": [],
   "source": []
  }
 ],
 "metadata": {
  "kernelspec": {
   "display_name": "Python 3 (ipykernel)",
   "language": "python",
   "name": "python3"
  },
  "language_info": {
   "codemirror_mode": {
    "name": "ipython",
    "version": 3
   },
   "file_extension": ".py",
   "mimetype": "text/x-python",
   "name": "python",
   "nbconvert_exporter": "python",
   "pygments_lexer": "ipython3",
   "version": "3.12.4"
  }
 },
 "nbformat": 4,
 "nbformat_minor": 5
}
